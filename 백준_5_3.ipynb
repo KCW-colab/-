{
  "nbformat": 4,
  "nbformat_minor": 0,
  "metadata": {
    "colab": {
      "name": "백준 5 3.ipynb",
      "provenance": []
    },
    "kernelspec": {
      "name": "python3",
      "display_name": "Python 3"
    },
    "language_info": {
      "name": "python"
    }
  },
  "cells": [
    {
      "cell_type": "markdown",
      "metadata": {
        "id": "C-qnlFVWaOe4"
      },
      "source": [
        "20115번 해설:\n",
        "\n",
        "가장 큰 값만 그대로 넣고 나머지는 반만 넣어서 담아준다면, 에너지 드링크의 양이 가장 많아진다."
      ]
    },
    {
      "cell_type": "code",
      "metadata": {
        "colab": {
          "base_uri": "https://localhost:8080/"
        },
        "id": "8Olw-Q-dtp6i",
        "outputId": "4641aa63-83de-43de-8ae0-41ba91783f8c"
      },
      "source": [
        "# 20115\n",
        "\n",
        "N = int(input())\n",
        "drinklist = list(map(int, input().split()))\n",
        "\n",
        "print((sum(drinklist) - max(drinklist)) * (1/2) + max(drinklist))"
      ],
      "execution_count": 6,
      "outputs": [
        {
          "output_type": "stream",
          "text": [
            "10\n",
            "100 9 77 65 39 27 45 1 80 495\n",
            "716.5\n"
          ],
          "name": "stdout"
        }
      ]
    },
    {
      "cell_type": "markdown",
      "metadata": {
        "id": "51xZ49Z4wXVr"
      },
      "source": [
        "20116번 해설:\n",
        "\n",
        "처음에는 전체를 슬라이싱해가면서 조건에 해당되는지 안되는지에 대해 비교하였다. 그러나 이는 시간이 너무 오래 걸린다는 단점이 있어 맨 뒤부터 시작하여 누적 평균을 저장하는 list를 따로 만들고, 이를 조건에 맞는지 원래 centerlist와 비교하는 방안을 이용하였다.\n"
      ]
    },
    {
      "cell_type": "code",
      "metadata": {
        "colab": {
          "base_uri": "https://localhost:8080/"
        },
        "id": "AKOFc1MIZzUc",
        "outputId": "1cdfe1b1-dc49-48e8-c57a-8b9c4fe67653"
      },
      "source": [
        "# 20116\n",
        "\n",
        "\n",
        "n, L = map(int, input().split())\n",
        "\n",
        "centerlist = list(map(int, input().split()))\n",
        "\n",
        "averagelist = []\n",
        "\n",
        "sum = 0\n",
        "count = 0\n",
        "\n",
        "for i in range(n-1, 0, -1):\n",
        "  sum += centerlist[i]\n",
        "  count += 1\n",
        "  averagelist.append(sum/count)\n",
        "\n",
        "state = True\n",
        "for j in range(n-1, 0, -1):\n",
        "  \n",
        "  if averagelist[n-j-1] >= centerlist[j-1] + L or averagelist[n-j-1] <= centerlist[j-1] - L:\n",
        "    print(\"unstable\")\n",
        "    state = False\n",
        "    break\n",
        "\n",
        "if state is True:\n",
        "  print(\"stable\")"
      ],
      "execution_count": 53,
      "outputs": [
        {
          "output_type": "stream",
          "text": [
            "stable\n"
          ],
          "name": "stdout"
        }
      ]
    },
    {
      "cell_type": "code",
      "metadata": {
        "colab": {
          "base_uri": "https://localhost:8080/"
        },
        "id": "GX0wG3kYd1Cy",
        "outputId": "e0a3663d-351d-4e9d-c8fc-09832f440be2"
      },
      "source": [
        "for i in range(10, 0, -1):\n",
        "  print(i)"
      ],
      "execution_count": 29,
      "outputs": [
        {
          "output_type": "stream",
          "text": [
            "10\n",
            "9\n",
            "8\n",
            "7\n",
            "6\n",
            "5\n",
            "4\n",
            "3\n",
            "2\n",
            "1\n"
          ],
          "name": "stdout"
        }
      ]
    },
    {
      "cell_type": "code",
      "metadata": {
        "id": "e0zr5EXdhYM4"
      },
      "source": [
        ""
      ],
      "execution_count": null,
      "outputs": []
    }
  ]
}