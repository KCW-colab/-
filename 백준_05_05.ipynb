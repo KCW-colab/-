{
  "nbformat": 4,
  "nbformat_minor": 0,
  "metadata": {
    "colab": {
      "name": "백준 05 05.ipynb",
      "provenance": [],
      "collapsed_sections": []
    },
    "kernelspec": {
      "name": "python3",
      "display_name": "Python 3"
    },
    "language_info": {
      "name": "python"
    }
  },
  "cells": [
    {
      "cell_type": "code",
      "metadata": {
        "colab": {
          "base_uri": "https://localhost:8080/"
        },
        "id": "JNxgy9w5Alpn",
        "outputId": "45028aa2-52ec-4395-9b14-67dea0a23907"
      },
      "source": [
        "# 15868\n",
        "# 시간 초과 되었지만 충분히 고민해볼 가치가 있는 문제였음.\n",
        "# N is number of kind of potion\n",
        "# M is number of recipe\n",
        "import sys\n",
        "\n",
        "\n",
        "N, M = map(int, input().split())\n",
        "\n",
        "\n",
        "recipe_list = []\n",
        "for i in range(M):\n",
        "  recipe_list.append(list(map(int,input().split())))\n",
        "\n",
        "recipe_nbr = []\n",
        "recipe = []\n",
        "\n",
        "L = int(input())\n",
        "having = list(map(int, input().split()))\n",
        "\n",
        "for i in range(M):\n",
        "  if recipe_list[i][-1] in having:\n",
        "    continue\n",
        "  else:\n",
        "    nbr = recipe_list[i][0]\n",
        "    recipe.append(recipe_list[i][1:-1])\n",
        "    recipe_nbr.append(recipe_list[i][-1])\n",
        "\n",
        "\n",
        "while True:\n",
        "  state = False\n",
        "  for i in range(len(recipe)):\n",
        "    if set(recipe[i]).issubset(set(having)):\n",
        "      having.append(recipe_nbr[i])\n",
        "      del recipe_nbr[i]\n",
        "      del recipe[i]\n",
        "      state = True\n",
        "      break\n",
        "\n",
        "  if state is False:\n",
        "    break\n",
        "\n",
        "having = set(having)\n",
        "print(len(having))\n",
        "\n",
        "for i in having:\n",
        "  print(i, end = \" \")"
      ],
      "execution_count": null,
      "outputs": [
        {
          "output_type": "stream",
          "text": [
            "7 6\n",
            "3 1 5 7 2\n",
            "3 1 3 6 7\n",
            "2 3 4 5\n",
            "2 4 5 3\n",
            "2 5 6 4\n",
            "5 1 2 4 5 6 3\n",
            "3\n",
            "1 5 6\n",
            "7\n",
            "1 2 3 4 5 6 7 "
          ],
          "name": "stdout"
        }
      ]
    }
  ]
}