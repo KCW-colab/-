{
  "nbformat": 4,
  "nbformat_minor": 0,
  "metadata": {
    "colab": {
      "name": "백준 0524.ipynb",
      "provenance": [],
      "collapsed_sections": [],
      "authorship_tag": "ABX9TyOwxMPLoTIk3em5bLPpiGqQ"
    },
    "kernelspec": {
      "name": "python3",
      "display_name": "Python 3"
    },
    "language_info": {
      "name": "python"
    }
  },
  "cells": [
    {
      "cell_type": "markdown",
      "metadata": {
        "id": "dmspizVs1-oS"
      },
      "source": [
        "16396번 해설:\n",
        "\n",
        "점을 찍는다고 생각하고 그 점의 갯수를 총합하면 됨."
      ]
    },
    {
      "cell_type": "code",
      "metadata": {
        "colab": {
          "base_uri": "https://localhost:8080/"
        },
        "id": "zrIvDPEfzlPb",
        "outputId": "a4f72672-0f59-4301-8a79-9a02951997ef"
      },
      "source": [
        "# 16396\n",
        "line_list = [0 for _ in range(1, 10001)]\n",
        "\n",
        "N = int(input())\n",
        "\n",
        "for i in range(N):\n",
        "  X, Y = map(int, input().split())\n",
        "  for j in range(X, Y):\n",
        "    line_list[j] = 1\n",
        "\n",
        "print(sum(line_list))"
      ],
      "execution_count": null,
      "outputs": [
        {
          "output_type": "stream",
          "text": [
            "2\n",
            "1 10\n",
            "11 20\n",
            "18\n"
          ],
          "name": "stdout"
        }
      ]
    },
    {
      "cell_type": "code",
      "metadata": {
        "id": "52DSro-t0zRF"
      },
      "source": [
        ""
      ],
      "execution_count": null,
      "outputs": []
    }
  ]
}