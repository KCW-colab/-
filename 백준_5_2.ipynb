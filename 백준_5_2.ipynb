{
  "nbformat": 4,
  "nbformat_minor": 0,
  "metadata": {
    "colab": {
      "name": "백준 5 2.ipynb",
      "provenance": []
    },
    "kernelspec": {
      "name": "python3",
      "display_name": "Python 3"
    },
    "language_info": {
      "name": "python"
    }
  },
  "cells": [
    {
      "cell_type": "markdown",
      "metadata": {
        "id": "UDHKH1Ynz2DL"
      },
      "source": [
        "20114 해설:\n",
        "세로로 들어간 문장 H개의 한 열씩 비교를 한다.\n",
        "만약에 이 열에 ?가 아닌 문자가 있으면 그 문자로 word에 그 문자를 추가해주고 전부 다 ?라면 word에 ?를 추가한다.\n",
        "\n",
        "그렇게 만든 word 중에서 한 단어당 W번씩 반복됨을 이용하여 그 문자를 찾기위해 sort와 pop을 이용한다."
      ]
    },
    {
      "cell_type": "code",
      "metadata": {
        "colab": {
          "base_uri": "https://localhost:8080/"
        },
        "id": "7xp7OGpNrKMp",
        "outputId": "6416c1a6-2b37-4e48-c8c3-5231736bf473"
      },
      "source": [
        "# 20114\n",
        "N, H, W = map(int, input().split())\n",
        "\n",
        "wordlist = []\n",
        "for _ in range(H):\n",
        "  wordlist.append(input())\n",
        "\n",
        "word = ''   \n",
        "\n",
        "for j in range(N*W):\n",
        "  alphabet = True\n",
        "  for h in range(H):\n",
        "    if wordlist[h][j] != \"?\":\n",
        "      word += wordlist[h][j]\n",
        "      alphabet = False\n",
        "      break\n",
        "  if alphabet is True:\n",
        "    word += \"?\"\n",
        "\n",
        "original = ''\n",
        "\n",
        "for i in range(N):\n",
        "  original += sorted(word[i*W:(i+1)*W]).pop()\n",
        "\n",
        "print(original)"
      ],
      "execution_count": 35,
      "outputs": [
        {
          "output_type": "stream",
          "text": [
            "6 2 3\n",
            "???rrruuu???ttt???\n",
            "f?f?rruuu?????t???\n",
            "fru?t?\n"
          ],
          "name": "stdout"
        }
      ]
    },
    {
      "cell_type": "code",
      "metadata": {
        "id": "I3VQ7n0qwBnk"
      },
      "source": [
        ""
      ],
      "execution_count": null,
      "outputs": []
    }
  ]
}