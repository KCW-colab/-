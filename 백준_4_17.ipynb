{
  "nbformat": 4,
  "nbformat_minor": 0,
  "metadata": {
    "colab": {
      "name": "백준 4 17.ipynb",
      "provenance": [],
      "collapsed_sections": []
    },
    "kernelspec": {
      "name": "python3",
      "display_name": "Python 3"
    },
    "language_info": {
      "name": "python"
    }
  },
  "cells": [
    {
      "cell_type": "markdown",
      "metadata": {
        "id": "S2dDVDS9FJ2_"
      },
      "source": [
        "20159번 해설:\n",
        "\n",
        "index를 기준으로 앞에서부터 짝수번째 숫자들의 누적합을 저장한 sum_table1과 뒤에서부터 홀수번째 숫자들의 누적합을 저장한 sum_table2와의 관계를 보면서 max값을 갱신해준다.\n",
        "\n",
        "처음 maximum값은 sum_table1의 끝과 sum_table2의 첫 번째 값중 더 큰 것으로 지정해주고, 그 다음 maximum은 갱신하도록 한다.\n",
        "\n",
        "ex)\n",
        "3 2 5 2 1 3 인 경우\n",
        "sum_table1 = [3, 8, 9]\n",
        "sum_table2 = [3, 5, 7]로 되는데,\n",
        "\n",
        "만약 밑장을 빼서 상대방에게 주는 경우에는,\n",
        "sum_table1에서 3을 선택하면 sum_table2에서는 5가 선택되고 그 두 합에 X의 맨 마지막 원소를 빼주어 sum값에 저장한다.\n",
        "\n",
        "밑장을 빼서 내가 가져가는 경우 sum_table1에서 3을 선택했을 경우 sum_table2에서는 5를 선택하여 두 합을 sum값에 넣으면 된다."
      ]
    },
    {
      "cell_type": "code",
      "metadata": {
        "colab": {
          "base_uri": "https://localhost:8080/"
        },
        "id": "B79BqD3m1UJG",
        "outputId": "4cd3d40d-e659-4248-c828-bf149c7995d3"
      },
      "source": [
        "# 20159\n",
        "\n",
        "n = int(input())\n",
        "\n",
        "X = list(map(int, input().split()))\n",
        "\n",
        "sum = 0\n",
        "sum1 = 0\n",
        "sum2 = 0\n",
        "sum_table1 = []\n",
        "sum_table2 = []\n",
        "\n",
        "for i in range(0, n, 2):\n",
        "  sum1 += X[i]\n",
        "  sum_table1.append(sum1)\n",
        "\n",
        "\n",
        "for j in range(n-1, 0, -2):\n",
        "  sum2 += X[j]\n",
        "  sum_table2.append(sum2)\n",
        "\n",
        "sum_table2.reverse()\n",
        "maximum = max(sum_table1[-1], sum_table2[0])\n",
        "\n",
        "\n",
        "for k in range((n//2) - 1):\n",
        "  sum = sum_table1[k] + sum_table2[k+1]\n",
        "  if sum > maximum:\n",
        "    maximum = sum\n",
        "\n",
        "for l in range((n//2) - 1):\n",
        "  sum = sum_table1[l] + sum_table2[l] - X[-1]\n",
        "  if sum > maximum:\n",
        "    maximum = sum\n",
        "\n",
        "print(maximum)\n",
        "print(sum_table1)\n",
        "print(sum_table2)"
      ],
      "execution_count": 43,
      "outputs": [
        {
          "output_type": "stream",
          "text": [
            "6\n",
            "3 2 5 7 3 1 \n",
            "15\n",
            "[3, 8, 11]\n",
            "[10, 8, 1]\n"
          ],
          "name": "stdout"
        }
      ]
    },
    {
      "cell_type": "markdown",
      "metadata": {
        "id": "0dQc-v7NFSEe"
      },
      "source": [
        "20152번 해설:\n",
        "\n",
        "우리가 최단거리를 구할 때 사용하듯이 바로 아래숫자와 옆숫자를 더해주는 방법을 사용. 이를 dp라고 하던데 추가적인 서칭을 요함.\n",
        "\n",
        "사실 왼쪽 위로 올라가는거라고 생각하기 쉽지만, 왼쪽 위에서 오른쪽 아래로 내려간다고 생각하면 더 간단해지는 문제이다. 참고를 위해 코드를 한 줄 더 첨부."
      ]
    },
    {
      "cell_type": "code",
      "metadata": {
        "colab": {
          "base_uri": "https://localhost:8080/"
        },
        "id": "4G7kHSZEBMmR",
        "outputId": "5b42be87-d72e-42b4-d11a-49590179eb1d"
      },
      "source": [
        "# 20152\n",
        "H, N = map(int, input().split())\n",
        "\n",
        "num = abs(H-N) + 1\n",
        "\n",
        "matrix = [[0 for i in range(31)] for i in range(31)]\n",
        "\n",
        "matrix[0][0] = 1\n",
        "for i in range(1, num):\n",
        "  for j in range(i+1):\n",
        "    matrix[i][j] = matrix[i][j-1] + matrix[i-1][j]\n",
        "\n",
        "print(matrix[num-1][num-1])"
      ],
      "execution_count": null,
      "outputs": [
        {
          "output_type": "stream",
          "text": [
            "0 3\n",
            "5\n"
          ],
          "name": "stdout"
        }
      ]
    },
    {
      "cell_type": "code",
      "metadata": {
        "id": "sMOMddKVIv1m"
      },
      "source": [
        "1\n",
        "1 1\n",
        "1 2 2\n",
        "1 3 5 5\n",
        "1 4 9 14 14 \n"
      ],
      "execution_count": null,
      "outputs": []
    },
    {
      "cell_type": "markdown",
      "metadata": {
        "id": "wMlIa3pc82aC"
      },
      "source": [
        "1157번 해설:\n",
        "matrix1은 단어에 포함되어있는 알파벳의 종류들을,\n",
        "matrix2는 알파벳이 등장하는 횟수를 저장하도록 if문을 사용해 적어준다. 이 때, 알파벳과 알파벳의 등장횟수는 같은 index 번호를 가지게끔 설정해주어야 한다.\n",
        "\n",
        "같은 횟수를 가지는 알파벳이 여러 개면 ?를 출력한다고 하였는데, 결론적으로 2개만 있어도 ?를 출력하므로, 등장횟수 list인 matrix2를 sort하여 0번째, 1번째가 같으면 ?를 출력하게끔 하였다."
      ]
    },
    {
      "cell_type": "code",
      "metadata": {
        "colab": {
          "base_uri": "https://localhost:8080/"
        },
        "id": "KWRqqaMk5xnb",
        "outputId": "ae479f1b-76e9-4189-9291-1caa0d21d003"
      },
      "source": [
        "# 1157\n",
        "\n",
        "word = input().upper()\n",
        "\n",
        "matrix1 = []\n",
        "matrix2 = []\n",
        "for i in word:\n",
        "  if i not in matrix1:\n",
        "    matrix1.append(i)\n",
        "    matrix2.append(1)\n",
        "  else:\n",
        "    matrix2[matrix1.index(i)] += 1\n",
        "\n",
        "\n",
        "sort_matrix2 = sorted(matrix2, reverse=True)\n",
        "\n",
        "if len(matrix1) == 1:\n",
        "  print(matrix1[0]) \n",
        "elif sort_matrix2[0] == sort_matrix2[1]:\n",
        "  print('?')\n",
        "else:\n",
        "  print(matrix1[matrix2.index(max(matrix2))])"
      ],
      "execution_count": null,
      "outputs": [
        {
          "output_type": "stream",
          "text": [
            "mississipi\n",
            "?\n"
          ],
          "name": "stdout"
        }
      ]
    },
    {
      "cell_type": "code",
      "metadata": {
        "id": "r4gfaD0P7PBQ"
      },
      "source": [
        ""
      ],
      "execution_count": null,
      "outputs": []
    }
  ]
}