{
  "nbformat": 4,
  "nbformat_minor": 0,
  "metadata": {
    "colab": {
      "name": "백준 04_04.ipynb",
      "provenance": [],
      "collapsed_sections": [],
      "authorship_tag": "ABX9TyPWrnWd2TAWVqNwpttNJcYU",
      "include_colab_link": true
    },
    "kernelspec": {
      "name": "python3",
      "display_name": "Python 3"
    },
    "language_info": {
      "name": "python"
    }
  },
  "cells": [
    {
      "cell_type": "markdown",
      "metadata": {
        "id": "view-in-github",
        "colab_type": "text"
      },
      "source": [
        "<a href=\"https://colab.research.google.com/github/KCW-colab/Quiz/blob/main/%EB%B0%B1%EC%A4%80.ipynb\" target=\"_parent\"><img src=\"https://colab.research.google.com/assets/colab-badge.svg\" alt=\"Open In Colab\"/></a>"
      ]
    },
    {
      "cell_type": "code",
      "metadata": {
        "colab": {
          "base_uri": "https://localhost:8080/"
        },
        "id": "USQM4Et5VBgj",
        "outputId": "5c0edb79-7e67-4eba-b63b-87aba48ee206"
      },
      "source": [
        "# 2609번\n",
        "a, b = map(int, input().split())\n",
        "\n",
        "X = []\n",
        "for i in range(1, min(a, b) + 1):\n",
        "  if a % i == 0 and b % i == 0:\n",
        "    X.append(i)\n",
        "\n",
        "print(max(X)) \n",
        "print(int(a*b/max(X)))"
      ],
      "execution_count": null,
      "outputs": [
        {
          "output_type": "stream",
          "text": [
            "9000 3000\n",
            "3000\n",
            "9000\n"
          ],
          "name": "stdout"
        }
      ]
    },
    {
      "cell_type": "code",
      "metadata": {
        "colab": {
          "base_uri": "https://localhost:8080/"
        },
        "id": "dZvL2VvyXY6Y",
        "outputId": "b828c2ec-ee71-4f2e-a2e4-b3b551031220"
      },
      "source": [
        "# 5598번\n",
        "\n",
        "before = ['A','B', 'C' ,'D' ,'E' ,'F' ,'G' ,'H' ,'I' ,'J' ,'K' ,'L' ,'M' ,'N' ,'O' ,'P' ,'Q' ,'R' ,'S' ,'T' ,'U', 'V', 'W' ,'X' ,'Y','Z' ]\n",
        "\n",
        "n = input()\n",
        "\n",
        "for i in n:\n",
        "  for j in range(len(before)):\n",
        "    if before[j] == i:\n",
        "        print(before[j-3], end='')     \n"
      ],
      "execution_count": null,
      "outputs": [
        {
          "output_type": "stream",
          "text": [
            "A\n",
            "X"
          ],
          "name": "stdout"
        }
      ]
    },
    {
      "cell_type": "code",
      "metadata": {
        "colab": {
          "base_uri": "https://localhost:8080/"
        },
        "id": "7RhxR-Fogm1L",
        "outputId": "5947aa99-1b55-42cd-83f4-77c749c54e12"
      },
      "source": [
        "# 18883번\n",
        "\n",
        "M, N = map(int, input().split())\n",
        "count = 1\n",
        "for i in range(1, M*N+1): \n",
        "  if count % N == 0:\n",
        "    print(i, end='\\n')    \n",
        "    count = 0\n",
        "  else:\n",
        "    print(i, end = ' ')\n",
        "  count += 1\n",
        "\n"
      ],
      "execution_count": null,
      "outputs": [
        {
          "output_type": "stream",
          "text": [
            "20 10\n",
            "1 2 3 4 5 6 7 8 9 10\n",
            "11 12 13 14 15 16 17 18 19 20\n",
            "21 22 23 24 25 26 27 28 29 30\n",
            "31 32 33 34 35 36 37 38 39 40\n",
            "41 42 43 44 45 46 47 48 49 50\n",
            "51 52 53 54 55 56 57 58 59 60\n",
            "61 62 63 64 65 66 67 68 69 70\n",
            "71 72 73 74 75 76 77 78 79 80\n",
            "81 82 83 84 85 86 87 88 89 90\n",
            "91 92 93 94 95 96 97 98 99 100\n",
            "101 102 103 104 105 106 107 108 109 110\n",
            "111 112 113 114 115 116 117 118 119 120\n",
            "121 122 123 124 125 126 127 128 129 130\n",
            "131 132 133 134 135 136 137 138 139 140\n",
            "141 142 143 144 145 146 147 148 149 150\n",
            "151 152 153 154 155 156 157 158 159 160\n",
            "161 162 163 164 165 166 167 168 169 170\n",
            "171 172 173 174 175 176 177 178 179 180\n",
            "181 182 183 184 185 186 187 188 189 190\n",
            "191 192 193 194 195 196 197 198 199 200\n"
          ],
          "name": "stdout"
        }
      ]
    }
  ]
}
