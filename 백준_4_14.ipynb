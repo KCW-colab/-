{
  "nbformat": 4,
  "nbformat_minor": 0,
  "metadata": {
    "colab": {
      "name": "백준 4.14.ipynb",
      "provenance": [],
      "collapsed_sections": []
    },
    "kernelspec": {
      "name": "python3",
      "display_name": "Python 3"
    },
    "language_info": {
      "name": "python"
    }
  },
  "cells": [
    {
      "cell_type": "markdown",
      "metadata": {
        "id": "TsaE2lKCqHQf"
      },
      "source": [
        "16953번 해설:\n",
        "B가 짝수일 경우 B를 2로 나누고 그 값으로 갱신.\n",
        "B가 홀수일 경우 -1 했을 때 10에 대하여 나눠지면 B를 -1하고 10으로 나눈 몫으로 갱신.\n",
        "만약 둘 다 아니라면 -1을 출력.\n",
        "\n",
        "이 뒤에 B가 결국 A와 같아진다면, 몇 회를 지나쳤는지 count를 통하여 출력하고 만약에 B가 A보다 작아진다면 만들 수 없다는 뜻이므로 -1을 출력."
      ]
    },
    {
      "cell_type": "code",
      "metadata": {
        "id": "YHGCzgaddj5H",
        "colab": {
          "base_uri": "https://localhost:8080/"
        },
        "outputId": "fdc33e4b-8ad0-4da5-d5ab-318ac979421d"
      },
      "source": [
        "# 16953\n",
        "A, B = map(int, input().split())\n",
        "\n",
        "count = 1\n",
        "while True:\n",
        "  \n",
        "  if B % 2 == 0:\n",
        "    B = B // 2\n",
        "    count += 1\n",
        "  elif B % 2 == 1:\n",
        "    if (B-1) % 10 == 0:\n",
        "      B = (B-1) // 10\n",
        "      count += 1\n",
        "    else:\n",
        "      print(-1)\n",
        "      break\n",
        "  \n",
        "  if A == B:\n",
        "    print(count)\n",
        "    break\n",
        "  elif B < A:\n",
        "    print(-1)\n",
        "    break"
      ],
      "execution_count": null,
      "outputs": [
        {
          "output_type": "stream",
          "text": [
            "100 40021\n",
            "5\n"
          ],
          "name": "stdout"
        }
      ]
    },
    {
      "cell_type": "markdown",
      "metadata": {
        "id": "5k3nd3pUqJyQ"
      },
      "source": [
        "1120번 해설:\n",
        "길이가 더 작은 문자열의 길이만큼 큰 문자열을 잘라서 그 들을 비교함.\n",
        "ex) abc abcdef면, \n",
        "    abcdef에서 abc, bcd, cde, def와 abc를 비교해서 가장 작은 worddif값을 가지는 걸 출력한다.(어차피 여기서 가장 작은 값을 가진 문자에다가 앞뒤로 똑같은 문자들만 채우면 됨.)\n"
      ]
    },
    {
      "cell_type": "code",
      "metadata": {
        "colab": {
          "base_uri": "https://localhost:8080/"
        },
        "id": "EAPzsHGPktR3",
        "outputId": "f83729b0-208b-4524-9203-eb18020ef5c0"
      },
      "source": [
        "# 1120\n",
        "\n",
        "def worddif(X, Y):\n",
        "  count = 0\n",
        "  for i in range(len(X)):\n",
        "    if X[i] != Y[i]:\n",
        "      count += 1\n",
        "  return count\n",
        "\n",
        "A, B = map(str, input().split())\n",
        "\n",
        "min = len(B)\n",
        "for i in range(len(B) - len(A) + 1):\n",
        "  Y = ''\n",
        "  \n",
        "  for j in range(i, i+len(A)):\n",
        "    Y += B[j]  \n",
        "  \n",
        "\n",
        "  if min > worddif(A, Y):\n",
        "    min = worddif(A, Y)\n",
        "  \n",
        "\n",
        "print(min)"
      ],
      "execution_count": null,
      "outputs": [
        {
          "output_type": "stream",
          "text": [
            "adaabc aababbc\n",
            "2\n"
          ],
          "name": "stdout"
        }
      ]
    },
    {
      "cell_type": "markdown",
      "metadata": {
        "id": "0TsN7xLoZFhC"
      },
      "source": [
        "2355번 해설:\n",
        "큰 값을 max, 작은 값을 min으로 설정.\n",
        "\n",
        "두 수의 범위에 따라 sigma합의 공식이 다르게 적용이 되므로 이 케이스들을 분류해준 후 합을 찾음."
      ]
    },
    {
      "cell_type": "code",
      "metadata": {
        "colab": {
          "base_uri": "https://localhost:8080/"
        },
        "id": "mAClyh-_b1ud",
        "outputId": "05416008-f0a0-483f-8e6d-0c84e2530909"
      },
      "source": [
        "# 2355  \n",
        "\n",
        "A, B = map(int, input().split())\n",
        "\n",
        "C = min(A, B)\n",
        "D = max(A, B)  \n",
        "if C >= 0 and D >= 0:\n",
        "  print(D*(D+1)//2 -C*(C-1)//2)\n",
        "\n",
        "elif C < 0 and D >= 0:\n",
        "  print(abs(C)*(C-1)//2 + D*(D+1)//2)\n",
        "  \n",
        "elif C < 0 and D < 0:\n",
        "  print(abs(C)*(C-1)//2 - abs(D)*(D+1)//2)"
      ],
      "execution_count": 17,
      "outputs": [
        {
          "output_type": "stream",
          "text": [
            "-10 -1\n",
            "-55\n"
          ],
          "name": "stdout"
        }
      ]
    }
  ]
}