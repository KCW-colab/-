{
  "nbformat": 4,
  "nbformat_minor": 0,
  "metadata": {
    "colab": {
      "name": "백준 4/8.ipynb",
      "provenance": []
    },
    "kernelspec": {
      "name": "python3",
      "display_name": "Python 3"
    },
    "language_info": {
      "name": "python"
    }
  },
  "cells": [
    {
      "cell_type": "code",
      "metadata": {
        "colab": {
          "base_uri": "https://localhost:8080/"
        },
        "id": "sgnP9Q-Q9BY1",
        "outputId": "7e457bd5-9a0b-4240-bb87-d0c05ea1212e"
      },
      "source": [
        "# 6588\n",
        "\n",
        "import math\n",
        "\n",
        "def is_prime(a):\n",
        "  \n",
        "  if a % 2 == 0:\n",
        "    return False\n",
        "  for i in range(3, int(math.sqrt(a))+2, 2):\n",
        "    if a % i == 0:\n",
        "      return False\n",
        "  return True\n",
        "\n",
        "while True:  \n",
        "  n = int(input())\n",
        " \n",
        "  if n == 0:\n",
        "    break\n",
        "  prime = False\n",
        "  for i in range(3, int(n/2)+1 , 2):\n",
        "    if is_prime(i) is True and is_prime(n-i) is True:   \n",
        "      print(n, '=', i, '+', n-i)\n",
        "      prime = True\n",
        "      break\n",
        "  if prime is False:\n",
        "    print(\"Goldbach's conjecture is wrong.\")\n",
        "  \n",
        "\n",
        "      \n"
      ],
      "execution_count": null,
      "outputs": [
        {
          "output_type": "stream",
          "text": [
            "100000\n",
            "100000 = 11 + 99989\n",
            "1000000\n",
            "1000000 = 17 + 999983\n",
            "0\n"
          ],
          "name": "stdout"
        }
      ]
    },
    {
      "cell_type": "code",
      "metadata": {
        "id": "2C-FaGMw91KT",
        "colab": {
          "base_uri": "https://localhost:8080/"
        },
        "outputId": "5427aecb-2baa-44ef-c730-f8f294b0701c"
      },
      "source": [
        "# 1977\n",
        "\n",
        "m = int(input())\n",
        "n = int(input())\n",
        "\n",
        "square_number_list = []\n",
        "\n",
        "for i in range(1, 101):\n",
        "  if i**2 < m:\n",
        "    continue\n",
        "  elif i**2 >= m and i**2 <= n:\n",
        "    square_number_list.append(i**2)\n",
        "  else:\n",
        "    break\n",
        "if square_number_list == []:\n",
        "  print(-1)\n",
        "else:\n",
        "  print(sum(square_number_list))\n",
        "  print(min(square_number_list))"
      ],
      "execution_count": 33,
      "outputs": [
        {
          "output_type": "stream",
          "text": [
            "75\n",
            "80\n",
            "-1\n"
          ],
          "name": "stdout"
        }
      ]
    },
    {
      "cell_type": "code",
      "metadata": {
        "id": "NRaAHYTWe_Ob"
      },
      "source": [
        ""
      ],
      "execution_count": null,
      "outputs": []
    }
  ]
}