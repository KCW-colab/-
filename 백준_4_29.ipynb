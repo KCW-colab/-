{
  "nbformat": 4,
  "nbformat_minor": 0,
  "metadata": {
    "colab": {
      "name": "백준 4 29.ipynb",
      "provenance": []
    },
    "kernelspec": {
      "name": "python3",
      "display_name": "Python 3"
    },
    "language_info": {
      "name": "python"
    }
  },
  "cells": [
    {
      "cell_type": "markdown",
      "metadata": {
        "id": "p-H4R9upqYJY"
      },
      "source": [
        "9020번 풀이:\n",
        "\n",
        "먼저 소수인지 아닌지를 확인하기 위한 함수를 작성한다.\n",
        "\n",
        "그 후에 숫자 n을 받으면 그 n의 중간 지점부터 for문을 시작한다. 그리고 i와 대응값인 n-i가 둘 다 소수일 경우 두 수를 출력하고 루프문을 빠져나온다. 중간 지점부터 시작하는 이유는 두 수의 차이가 가장 작을때 출력을 해야하므로 그렇다."
      ]
    },
    {
      "cell_type": "code",
      "metadata": {
        "colab": {
          "base_uri": "https://localhost:8080/"
        },
        "id": "i5qW7P9EoLQ1",
        "outputId": "3c27b13b-6226-4824-bc05-c15fb0a9e53e"
      },
      "source": [
        "# 9020\n",
        "\n",
        "def isprime(n):\n",
        "  for i in range(2, int(n**1/2)+1):\n",
        "    if n % i == 0:\n",
        "      return False\n",
        "\n",
        "  return True\n",
        "\n",
        "T = int(input())\n",
        "\n",
        "for i in range(T):\n",
        "  n = int(input())\n",
        "  for i in range(int(n/2), n):\n",
        "    if isprime(i) == True:\n",
        "      if isprime(n-i) == True:\n",
        "        print(n-i, i)\n",
        "        break"
      ],
      "execution_count": null,
      "outputs": [
        {
          "output_type": "stream",
          "text": [
            "3\n",
            "16\n",
            "5 11\n",
            "18\n",
            "7 11\n",
            "200\n",
            "97 103\n"
          ],
          "name": "stdout"
        }
      ]
    }
  ]
}