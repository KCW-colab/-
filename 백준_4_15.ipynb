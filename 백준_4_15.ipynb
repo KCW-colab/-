{
  "nbformat": 4,
  "nbformat_minor": 0,
  "metadata": {
    "colab": {
      "name": "백준 4 15.ipynb",
      "provenance": [],
      "collapsed_sections": []
    },
    "kernelspec": {
      "name": "python3",
      "display_name": "Python 3"
    },
    "language_info": {
      "name": "python"
    }
  },
  "cells": [
    {
      "cell_type": "markdown",
      "metadata": {
        "id": "hn-EpRyoZ0fR"
      },
      "source": [
        "9613번 해설:\n",
        "먼저 gcd를 계산하는 함수를 만든다.\n",
        "가장 작은 값으로 부터 -1을 해가면서 두 수를 모두 나눌 수 있는 값을 찾으면 바로 break하는 함수이다. (어차피 1까지 돌아도 gcd는 가장 큰 값이므로 break)\n",
        "\n",
        "그리고 테스트 케이스 갯수만큼 아래를 실행한다.\n",
        "\n",
        "받은 값을 list에 저장시켜서 그 내부에 각 쌍마다 gcd를 총합해주고 그 합을 출력하도록 한다."
      ]
    },
    {
      "cell_type": "code",
      "metadata": {
        "colab": {
          "base_uri": "https://localhost:8080/"
        },
        "id": "pMQDOSbCWsbc",
        "outputId": "c6cf094b-9c3e-4b31-e08e-39ac2bf7450a"
      },
      "source": [
        "# 9613\n",
        "def gcd(a, b):\n",
        "  c = min(a, b)\n",
        "  d = max(a, b)\n",
        "  gcd = 1\n",
        "  for i in range(c, 0, -1):\n",
        "    if c % i == 0:\n",
        "      if d % i == 0:\n",
        "        gcd = i\n",
        "        break\n",
        "  return gcd\n",
        "\n",
        "\n",
        "              \n",
        "t = int(input()) # 테스트 케이스의 개수\n",
        "\n",
        "for i in range(t):\n",
        "  num_list = []\n",
        "  num_list = list(map(int, input().split()))\n",
        "  sum = 0\n",
        "  for i in range(1, len(num_list)):\n",
        "    for j in range(i+1, len(num_list)):\n",
        "      sum += gcd(num_list[i], num_list[j])\n",
        "  print(sum)\n",
        "    "
      ],
      "execution_count": null,
      "outputs": [
        {
          "output_type": "stream",
          "text": [
            "3\n",
            "4 10 20 30 40\n",
            "70\n",
            "3 7 5 12\n",
            "3\n",
            "3 125 15 25\n",
            "35\n"
          ],
          "name": "stdout"
        }
      ]
    },
    {
      "cell_type": "markdown",
      "metadata": {
        "id": "tHWlKqOqkVg0"
      },
      "source": [
        "1002번 해설:\n",
        "\n",
        "중심이 되는 두 점 사이의 거리와 각각의 점에서부터의 거리만큼을 반지름으로 가지는 원의 교점 갯수가 류재명이 있을 수 있는 위치의 개수가 된다.\n",
        "\n",
        "따라서 이 케이스들을 전부 분류해주면 되는데,\n",
        "두 점이 같을 경우, 반지름이 다르면 교점이 0개, 반지름이 같으면 교점이 무한대만큼 있다.\n",
        "\n",
        "두 점이 다를 경우, 4가지의 경우로 분류되는데 이는 코드 주석에 남기도록 하겠다."
      ]
    },
    {
      "cell_type": "code",
      "metadata": {
        "colab": {
          "base_uri": "https://localhost:8080/"
        },
        "id": "j-kL_g0KbENI",
        "outputId": "aaa1d2c0-ae30-4943-e0db-a6c75d264356"
      },
      "source": [
        "# 1002\n",
        "def distance(x, y, w, z):\n",
        "  return ((x-w)**2 + (y-z)**2)**(1/2)\n",
        "\n",
        "def number_of_position(a, b, c, d, e, f):\n",
        "  dis = distance(a, b, d, e)\n",
        "  if dis == 0:\n",
        "    if c == f:\n",
        "      print(-1)\n",
        "    else:\n",
        "      print(0)\n",
        "  \n",
        "  else:\n",
        "    if dis == (c+f) or dis == abs(c-f): # 두 점의 내분점이나 외분점의 경우.\n",
        "      return print(1)\n",
        "      \n",
        "    elif dis < (c+f) and dis > abs(c-f): \n",
        "      # 두 원이 교점이 2개가 되는 경우는 두 점 사이의 거리가 반지름의 합보다 크고,\n",
        "      # 두 점 사이의 거리가 반지름의 차보다 커야한다.\n",
        "      # 한 원이 다른 원 안에 들어가게끔 그림을 그려보면 느낌 온다.\n",
        "      return print(2)\n",
        "    else:\n",
        "      return print(0)\n",
        "\n",
        "\n",
        "\n",
        "T = int(input())\n",
        "\n",
        "for i in range(T):\n",
        "  x1, y1, r1, x2, y2, r2 = map(int, input().split())\n",
        "  number_of_position(x1, y1, r1, x2, y2, r2)"
      ],
      "execution_count": null,
      "outputs": [
        {
          "output_type": "stream",
          "text": [
            "3\n",
            "0 0 13 40 0 37\n",
            "2\n",
            "0 0 3 0 7 4\n",
            "1\n",
            "1 1 1 1 1 5\n",
            "0\n"
          ],
          "name": "stdout"
        }
      ]
    }
  ]
}