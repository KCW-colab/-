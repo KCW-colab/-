{
  "nbformat": 4,
  "nbformat_minor": 0,
  "metadata": {
    "colab": {
      "name": "백준 05 04.ipynb",
      "provenance": []
    },
    "kernelspec": {
      "name": "python3",
      "display_name": "Python 3"
    },
    "language_info": {
      "name": "python"
    }
  },
  "cells": [
    {
      "cell_type": "markdown",
      "metadata": {
        "id": "8GowJWoglpHx"
      },
      "source": [
        "20117번 해설:\n",
        "\n",
        "가장 큰 수익을 남기려면, 제일 큰 값과 가장 작은 값을 2개씩 묶고 그 둘을 지우면 된다. (2개만 들어있을 때에는 가장 작은 값이 가장 큰 값과 묶이면 가장 큰 값으로 2개를 계산하게 되므로.) 그리고 홀수 일경우는 중앙값을 마지막에 더해주면 끝."
      ]
    },
    {
      "cell_type": "code",
      "metadata": {
        "colab": {
          "base_uri": "https://localhost:8080/"
        },
        "id": "Vdcqa9ogj5lx",
        "outputId": "ab3ae31d-7590-4b8d-b153-58cdf3fb3e24"
      },
      "source": [
        "# 20117번\n",
        "N = int(input())\n",
        "\n",
        "Hobanu = list(map(int, input().split()))\n",
        "Hobanu = sorted(Hobanu)\n",
        "sum = 0\n",
        "\n",
        "if N % 2 == 0:\n",
        "  for i in range(int(N/2), N):\n",
        "    sum += Hobanu[i] * 2\n",
        "    \n",
        "  print(sum)\n",
        "\n",
        "else:\n",
        "  for i in range(int((N+1)/2), N):\n",
        "    sum += Hobanu[i] * 2\n",
        "  print(sum + Hobanu[int((N-1)/2)])"
      ],
      "execution_count": null,
      "outputs": [
        {
          "output_type": "stream",
          "text": [
            "3\n",
            "6 3 9\n",
            "24\n"
          ],
          "name": "stdout"
        }
      ]
    }
  ]
}