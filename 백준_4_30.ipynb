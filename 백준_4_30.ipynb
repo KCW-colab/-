{
  "nbformat": 4,
  "nbformat_minor": 0,
  "metadata": {
    "colab": {
      "name": "백준 4 30.ipynb",
      "provenance": []
    },
    "kernelspec": {
      "name": "python3",
      "display_name": "Python 3"
    },
    "language_info": {
      "name": "python"
    }
  },
  "cells": [
    {
      "cell_type": "markdown",
      "metadata": {
        "id": "0_BvwgouXKLY"
      },
      "source": [
        "20112번 해설:\n",
        "zip(*iterable)은 동일한 개수로 이루어진 자료형을 묶어 주는 역할을 하는 함수\n",
        "\n",
        "단어를 한 알파벳 단위로 쪼개서 만든 list와 그의 transpose가 같으면 YES 아니면 NO라고 표현하였다."
      ]
    },
    {
      "cell_type": "code",
      "metadata": {
        "colab": {
          "base_uri": "https://localhost:8080/"
        },
        "id": "woH8g52XW1kI",
        "outputId": "0f19a212-240b-4fd3-ff0c-20f956fb4583"
      },
      "source": [
        "# 20112\n",
        "N = int(input())\n",
        "A = []\n",
        "for i in range(N):\n",
        "  A.append(input())\n",
        "\n",
        "A = [[i for i in t] for t in A]\n",
        "AT = [[i for i in t] for t in zip(*A)]\n",
        "\n",
        "if A == AT:\n",
        "  print(\"YES\")\n",
        "\n",
        "else:\n",
        "  print(\"NO\")"
      ],
      "execution_count": 18,
      "outputs": [
        {
          "output_type": "stream",
          "text": [
            "4\n",
            "APPL\n",
            "PPAP\n",
            "PADD\n",
            "LPOV\n",
            "NO\n"
          ],
          "name": "stdout"
        }
      ]
    },
    {
      "cell_type": "code",
      "metadata": {
        "colab": {
          "base_uri": "https://localhost:8080/"
        },
        "id": "qk5c0TiDXVni",
        "outputId": "2eec8524-0a4c-47f0-dba4-a38a97f5a062"
      },
      "source": [
        "A = ['aab', 'bbc']\n",
        "B = [[i for i in t] for t in A]\n",
        "B"
      ],
      "execution_count": 14,
      "outputs": [
        {
          "output_type": "execute_result",
          "data": {
            "text/plain": [
              "[['a', 'a', 'b'], ['b', 'b', 'c']]"
            ]
          },
          "metadata": {
            "tags": []
          },
          "execution_count": 14
        }
      ]
    },
    {
      "cell_type": "markdown",
      "metadata": {
        "id": "4d6N8JkTcYMt"
      },
      "source": [
        "20113번 해설:\n",
        "투표 받은 횟수를 countlist에 따로 저장해두고 이 투표 받은 횟수를 sort해서 제일 끝과 그 다음이 같으면 가장 많이 받은 사람이 둘이상 이라서 skipped 되고, 전부 0이어도 skipped된다.\n",
        "그게 아니면 가장 max값을 가지는 index에 +1(list는 0부터 시작이므로)을 해준 번호가 퇴출된다."
      ]
    },
    {
      "cell_type": "code",
      "metadata": {
        "colab": {
          "base_uri": "https://localhost:8080/"
        },
        "id": "aUvHkj9KYizv",
        "outputId": "1d147049-2e8f-4be7-d498-f8d4d4778e15"
      },
      "source": [
        "# 20113\n",
        "N = int(input())\n",
        "countlist = [0 for i in range(N)]\n",
        "player = list(map(int, input().split()))\n",
        "for i in player:\n",
        "  if i == 0:\n",
        "    continue\n",
        "  else:\n",
        "    countlist[i-1] += 1\n",
        "\n",
        "\n",
        "sort_countlist = sorted(countlist)\n",
        "if sort_countlist[-1] == sort_countlist[-2]:\n",
        "  print(\"skipped\")\n",
        "\n",
        "elif sort_countlist[-1] == 0:\n",
        "  print(\"skipped\")\n",
        "\n",
        "else:\n",
        "  print(countlist.index(max(countlist)) + 1)"
      ],
      "execution_count": 38,
      "outputs": [
        {
          "output_type": "stream",
          "text": [
            "7\n",
            "2 1 1 7 6 3 3\n",
            "[2, 1, 1, 7, 6, 3, 3]\n",
            "[2, 1, 2, 0, 0, 1, 1]\n",
            "skipped\n"
          ],
          "name": "stdout"
        }
      ]
    }
  ]
}