{
  "nbformat": 4,
  "nbformat_minor": 0,
  "metadata": {
    "colab": {
      "name": "백준0405",
      "provenance": [],
      "collapsed_sections": []
    },
    "kernelspec": {
      "name": "python3",
      "display_name": "Python 3"
    },
    "language_info": {
      "name": "python"
    }
  },
  "cells": [
    {
      "cell_type": "code",
      "metadata": {
        "colab": {
          "base_uri": "https://localhost:8080/"
        },
        "id": "ySKus71ClFyO",
        "outputId": "225abf10-8e61-48c7-f06c-ed3bc1eb1183"
      },
      "source": [
        "# 9550번\n",
        "test = int(input())\n",
        "\n",
        "for i in range(test):\n",
        "  N, K = map(int, input().split())\n",
        "  sum = 0\n",
        "  num_list = list(map(int, input().split()))\n",
        "  for j in range(N):\n",
        "    sum += num_list[j] // K\n",
        "  print(sum)\n",
        "  \n"
      ],
      "execution_count": null,
      "outputs": [
        {
          "output_type": "stream",
          "text": [
            "2\n",
            "3 2\n",
            "4 5 7\n",
            "7\n",
            "3 8\n",
            "4 5 7\n",
            "0\n"
          ],
          "name": "stdout"
        }
      ]
    },
    {
      "cell_type": "code",
      "metadata": {
        "colab": {
          "base_uri": "https://localhost:8080/"
        },
        "id": "L5frzPyqlbbI",
        "outputId": "f10b0b5e-1231-40a4-8273-3a2b99adc33a"
      },
      "source": [
        "# 13706번\n",
        "# 이진 탐색을 이용한 방법.\n",
        "n = int(input())\n",
        "left = 1\n",
        "right = n\n",
        "while True :\n",
        "     \n",
        "  mid = (left + right) // 2\n",
        "\n",
        "  if mid ** 2 == n:\n",
        "    print(mid)\n",
        "    break    \n",
        "  elif mid ** 2 > n:\n",
        "    right = mid - 1\n",
        "  elif mid ** 2 < n:\n",
        "    left = mid + 1\n",
        "\n"
      ],
      "execution_count": 7,
      "outputs": [
        {
          "output_type": "stream",
          "text": [
            "36\n",
            "6\n"
          ],
          "name": "stdout"
        }
      ]
    },
    {
      "cell_type": "code",
      "metadata": {
        "id": "6LTgG1dnaK9b"
      },
      "source": [
        ""
      ],
      "execution_count": null,
      "outputs": []
    }
  ]
}