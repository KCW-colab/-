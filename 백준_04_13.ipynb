{
  "nbformat": 4,
  "nbformat_minor": 0,
  "metadata": {
    "colab": {
      "name": "백준 04/13.ipynb",
      "provenance": [],
      "collapsed_sections": []
    },
    "kernelspec": {
      "name": "python3",
      "display_name": "Python 3"
    },
    "language_info": {
      "name": "python"
    }
  },
  "cells": [
    {
      "cell_type": "code",
      "metadata": {
        "colab": {
          "base_uri": "https://localhost:8080/"
        },
        "id": "kBABGgVC1AGM",
        "outputId": "2880debe-a1a7-4ccc-8a25-141cb568b58c"
      },
      "source": [
        "# 20920 pypy3 로제출\n",
        "N, M = map(int, input().split())\n",
        "\n",
        "word_list = {}\n",
        "\n",
        "for i in range(N):\n",
        "  word = input()\n",
        "  if len(word) < M:\n",
        "    continue\n",
        "  if word not in word_list:\n",
        "    word_list[word] = len(word)\n",
        "  else:\n",
        "    word_list[word] += 100\n",
        "\n",
        "word_list = dict(sorted(word_list.items(), key = lambda item : item[0]))\n",
        "word_list = sorted(word_list.items(),reverse = True,key=lambda item: item[1])\n",
        "for i in range(len(word_list)):\n",
        "  print(word_list[i][0])"
      ],
      "execution_count": null,
      "outputs": [
        {
          "output_type": "stream",
          "text": [
            "12 5\n",
            "wallet\n",
            "attendance\n",
            "append\n",
            "appearance\n",
            "swim\n",
            "swift\n",
            "swift\n",
            "swift\n",
            "mouse\n",
            "mouse\n",
            "ice\n",
            "age\n",
            "swift\n",
            "mouse\n",
            "appearance\n",
            "attendance\n",
            "append\n",
            "wallet\n"
          ],
          "name": "stdout"
        }
      ]
    },
    {
      "cell_type": "code",
      "metadata": {
        "colab": {
          "base_uri": "https://localhost:8080/"
        },
        "id": "yDnxFxL1BO4t",
        "outputId": "f1446f96-fd2d-400b-ddb1-504b6bf82765"
      },
      "source": [
        "# 20546 python3로 제출\n",
        "def TIMING(number):\n",
        "  sum = 0\n",
        "  for i in range(len(price)):\n",
        "    \n",
        "    if i >= 3 :\n",
        "      if price[i] > price[i-1] and price[i-1] > price[i-2] and price[i-2] > price[i-3]:\n",
        "        if sum != 0:        \n",
        "          number = sum * price[i]\n",
        "          sum = 0\n",
        "\n",
        "      elif price[i] < price[i-1] and price[i-1] < price[i-2] and price[i-2] < price[i-3]:\n",
        "        sum += number // price[i]\n",
        "        number = number - price[i] * (number // price[i])\n",
        "    \n",
        "  return number + (sum * price[13])      \n",
        "\n",
        "def BNP(number):\n",
        "  sum = 0\n",
        "  for i in price:\n",
        "    sum += number // i\n",
        "    number = number - i * (number // i)\n",
        "    \n",
        "  return number + (sum * price[13])\n",
        "\n",
        "n = int(input())\n",
        "\n",
        "\n",
        "price = list(map(int, input().split()))\n",
        "\n",
        "if BNP(n) > TIMING(n):\n",
        "  print('BNP')\n",
        "elif BNP(n) < TIMING(n):\n",
        "  print('TIMING')\n",
        "else:\n",
        "  print('SAMESAME')"
      ],
      "execution_count": null,
      "outputs": [
        {
          "output_type": "stream",
          "text": [
            "15\n",
            "20 20 33 98 15 6 4 1 1 1 2 3 6 14\n",
            "TIMING\n"
          ],
          "name": "stdout"
        }
      ]
    },
    {
      "cell_type": "code",
      "metadata": {
        "colab": {
          "base_uri": "https://localhost:8080/"
        },
        "id": "RWyrY5QPBsHM",
        "outputId": "987eb709-ae50-431c-8ea3-b01e71185c35"
      },
      "source": [
        "BNP(n) > TIMING(n)"
      ],
      "execution_count": null,
      "outputs": [
        {
          "output_type": "execute_result",
          "data": {
            "text/plain": [
              "True"
            ]
          },
          "metadata": {
            "tags": []
          },
          "execution_count": 154
        }
      ]
    },
    {
      "cell_type": "code",
      "metadata": {
        "id": "AVo5pw7MEUCG"
      },
      "source": [
        ""
      ],
      "execution_count": null,
      "outputs": []
    }
  ]
}