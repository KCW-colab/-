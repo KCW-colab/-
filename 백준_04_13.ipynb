{
  "nbformat": 4,
  "nbformat_minor": 0,
  "metadata": {
    "colab": {
      "name": "백준 04/13.ipynb",
      "provenance": [],
      "collapsed_sections": []
    },
    "kernelspec": {
      "name": "python3",
      "display_name": "Python 3"
    },
    "language_info": {
      "name": "python"
    }
  },
  "cells": [
    {
      "cell_type": "code",
      "metadata": {
        "colab": {
          "base_uri": "https://localhost:8080/"
        },
        "id": "kBABGgVC1AGM",
        "outputId": "2880debe-a1a7-4ccc-8a25-141cb568b58c"
      },
      "source": [
        "# 20920 pypy3 로제출\n",
        "N, M = map(int, input().split())\n",
        "\n",
        "word_list = {}\n",
        "\n",
        "for i in range(N):\n",
        "  word = input()\n",
        "  if len(word) < M:\n",
        "    continue\n",
        "  if word not in word_list:\n",
        "    word_list[word] = len(word)\n",
        "  else:\n",
        "    word_list[word] += 100\n",
        "\n",
        "word_list = dict(sorted(word_list.items(), key = lambda item : item[0]))\n",
        "word_list = sorted(word_list.items(),reverse = True,key=lambda item: item[1])\n",
        "for i in range(len(word_list)):\n",
        "  print(word_list[i][0])"
      ],
      "execution_count": 101,
      "outputs": [
        {
          "output_type": "stream",
          "text": [
            "12 5\n",
            "wallet\n",
            "attendance\n",
            "append\n",
            "appearance\n",
            "swim\n",
            "swift\n",
            "swift\n",
            "swift\n",
            "mouse\n",
            "mouse\n",
            "ice\n",
            "age\n",
            "swift\n",
            "mouse\n",
            "appearance\n",
            "attendance\n",
            "append\n",
            "wallet\n"
          ],
          "name": "stdout"
        }
      ]
    }
  ]
}